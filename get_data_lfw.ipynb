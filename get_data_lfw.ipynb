{
 "cells": [
  {
   "cell_type": "code",
   "execution_count": null,
   "metadata": {},
   "outputs": [],
   "source": [
    "import os\n",
    "from os.path import join as osjoin\n",
    "from tqdm import tqdm \n",
    "import pickle\n",
    "import cv2\n",
    "import shutil\n",
    "import numpy as np\n",
    "from align import AlignDlib\n",
    "from process_image import ProcessImage"
   ]
  },
  {
   "cell_type": "code",
   "execution_count": null,
   "metadata": {},
   "outputs": [],
   "source": [
    "PATH_TO_LFW = osjoin(os.getcwd(), 'lfw', 'lfw')\n",
    "PATH_TO_IMG = osjoin(os.getcwd(), 'lfw', 'image')"
   ]
  },
  {
   "cell_type": "code",
   "execution_count": null,
   "metadata": {},
   "outputs": [],
   "source": [
    "process_image = ProcessImage()"
   ]
  },
  {
   "cell_type": "code",
   "execution_count": null,
   "metadata": {},
   "outputs": [],
   "source": [
    "x_vector  = []\n",
    "x_label = []\n",
    "x_name = []\n",
    "x_name_map = []"
   ]
  },
  {
   "cell_type": "markdown",
   "metadata": {},
   "source": [
    "Lấy dữ liệu ảnh từ thư mục lfw, cắt ảnh khuôn mặt và chuyển thành vector, đồng thời lấy metadata như name và path rồi lưu vào list"
   ]
  },
  {
   "cell_type": "code",
   "execution_count": null,
   "metadata": {
    "scrolled": true
   },
   "outputs": [],
   "source": [
    "\n",
    "for root, directories, files in os.walk(PATH_TO_LFW):\n",
    "    count = 0\n",
    "    for d in tqdm(directories):  \n",
    "        number_img = 0\n",
    "        directory = osjoin(PATH_TO_LFW, d)\n",
    "        if len(os.listdir(directory)) <= 15:\n",
    "            continue\n",
    "            \n",
    "        for mtimg in os.listdir(directory):\n",
    "            pathimg = osjoin(directory, mtimg)\n",
    "            ext = os.path.splitext(pathimg)[1]\n",
    "            if ext != '.jpg' and  ext != '.jpeg':\n",
    "                continue\n",
    "            img = process_image.load_img(pathimg)\n",
    "            \n",
    "            try:\n",
    "                box = process_image.get_max_box(img)\n",
    "                img = process_image.align_image(img, box)\n",
    "                v = process_image.img2vect(img)\n",
    "                x_vector.append(v)\n",
    "                x_label.append(count)\n",
    "                x_name.append(d)\n",
    "                x_name_map.append(pathimg)\n",
    "                if not os.path.isdir(osjoin(PATH_TO_IMG, d)):\n",
    "                    os.mkdir(osjoin(PATH_TO_IMG, d))\n",
    "                shutil.move(pathimg, osjoin(PATH_TO_IMG, d, mtimg))\n",
    "                number_img += 1\n",
    "                if number_img == 15: break\n",
    "            except:\n",
    "                continue\n",
    "        count += 1"
   ]
  },
  {
   "cell_type": "code",
   "execution_count": null,
   "metadata": {},
   "outputs": [],
   "source": [
    "print (len(x_label))\n",
    "for i in x_label[:10]:\n",
    "    print (i)\n",
    "print (len(x_name))\n",
    "for j in x_name[:10]:\n",
    "    print (j)\n",
    "print (len(x_name_map))\n",
    "for k in x_name_map[:10]:\n",
    "    print (k)\n",
    "print (len(x_vector))"
   ]
  },
  {
   "cell_type": "code",
   "execution_count": null,
   "metadata": {},
   "outputs": [],
   "source": [
    "with open(osjoin(os.getcwd(), 'lfw', 'x_vector.pkl'), 'wb') as f:\n",
    "    pickle.dump(x_vector, f)\n",
    "with open(osjoin(os.getcwd(), 'lfw', 'x_label.pkl'), 'wb') as f:\n",
    "    pickle.dump(x_label, f)\n",
    "with open(osjoin(os.getcwd(), 'lfw', 'x_name.pkl'), 'wb') as f:\n",
    "    pickle.dump(x_name, f)\n",
    "with open(osjoin(os.getcwd(), 'lfw', 'x_name_map.pkl'), 'wb') as f:\n",
    "    pickle.dump(x_name_map, f)"
   ]
  }
 ],
 "metadata": {
  "kernelspec": {
   "display_name": "Python (tensorflow)",
   "language": "python",
   "name": "tensorflow"
  },
  "language_info": {
   "codemirror_mode": {
    "name": "ipython",
    "version": 3
   },
   "file_extension": ".py",
   "mimetype": "text/x-python",
   "name": "python",
   "nbconvert_exporter": "python",
   "pygments_lexer": "ipython3",
   "version": "3.6.8"
  }
 },
 "nbformat": 4,
 "nbformat_minor": 2
}
