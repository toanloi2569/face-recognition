{
 "cells": [
  {
   "cell_type": "code",
   "execution_count": 1,
   "metadata": {},
   "outputs": [],
   "source": [
    "import bz2\n",
    "import os\n",
    "\n",
    "from urllib.request import urlopen\n",
    "\n",
    "# Down face landmarks.dat\n",
    "def download_landmarks(dst_file):\n",
    "    url = 'http://dlib.net/files/shape_predictor_68_face_landmarks.dat.bz2'\n",
    "    decompressor = bz2.BZ2Decompressor()\n",
    "    \n",
    "    with urlopen(url) as src, open(dst_file, 'wb') as dst:\n",
    "        data = src.read(1024)\n",
    "        while len(data) > 0:\n",
    "            dst.write(decompressor.decompress(data))\n",
    "            data = src.read(1024)\n",
    "\n",
    "dst_dir = 'models'\n",
    "dst_file = os.path.join(dst_dir, 'landmarks.dat')\n",
    "\n",
    "if not os.path.exists(dst_file):\n",
    "    os.makedirs(dst_dir)\n",
    "    download_landmarks(dst_file)"
   ]
  },
  {
   "cell_type": "raw",
   "metadata": {},
   "source": [
    "from model import create_model\n",
    "nn4_small2_pretrained = create_model()\n",
    "nn4_small2_pretrained.load_weights('weights/nn4.small2.v1.h5')"
   ]
  },
  {
   "cell_type": "code",
   "execution_count": 2,
   "metadata": {},
   "outputs": [],
   "source": [
    "import pickle\n",
    "import numpy as np\n",
    "\n",
    "with open('data_test/test_1/x_label.pkl', 'rb') as f:\n",
    "    x_label = np.array(pickle.load(f))\n",
    "with open('data_test/test_1/y_label.pkl', 'rb') as f:\n",
    "    y_label = np.array(pickle.load(f))\n",
    "with open('data_test/test_1/x_vector.pkl', 'rb') as f:\n",
    "    x_vector = np.array(pickle.load(f))\n",
    "with open('data_test/test_1/y_vector.pkl', 'rb') as f:\n",
    "    y_vector = np.array(pickle.load(f))"
   ]
  },
  {
   "cell_type": "code",
   "execution_count": 3,
   "metadata": {},
   "outputs": [
    {
     "name": "stdout",
     "output_type": "stream",
     "text": [
      "(605, 128) (6088, 128)\n",
      "(605,) (6088,)\n",
      "(6693, 128) (6693,)\n",
      "604\n"
     ]
    }
   ],
   "source": [
    "z_vector = np.append(x_vector, y_vector, axis=0)\n",
    "z_label = np.append(x_label, y_label)\n",
    "\n",
    "print (x_vector.shape, y_vector.shape)\n",
    "print (x_label.shape, y_label.shape)\n",
    "print (z_vector.shape, z_label.shape)\n",
    "print (np.max(z_label))"
   ]
  },
  {
   "cell_type": "code",
   "execution_count": 4,
   "metadata": {},
   "outputs": [],
   "source": [
    "count = np.zeros(605)\n",
    "for i, lb in enumerate(z_label):\n",
    "    count[lb] += 1"
   ]
  },
  {
   "cell_type": "code",
   "execution_count": 5,
   "metadata": {},
   "outputs": [
    {
     "name": "stdout",
     "output_type": "stream",
     "text": [
      "(3986, 128) (3986,)\n"
     ]
    }
   ],
   "source": [
    "# Chọn những người có số lượng ảnh >= 12 \n",
    "vector = np.reshape(np.array([]), (-1, 128))\n",
    "label = (np.array([])).astype(int)\n",
    "\n",
    "for i, lb in enumerate(z_label):\n",
    "    if (count[lb] >= 12):\n",
    "        vector = np.append(vector, np.reshape(z_vector[i], (-1, 128)), axis=0)\n",
    "        label = np.append(label, z_label[i])\n",
    "print (vector.shape, label.shape)"
   ]
  },
  {
   "cell_type": "code",
   "execution_count": 6,
   "metadata": {},
   "outputs": [
    {
     "name": "stdout",
     "output_type": "stream",
     "text": [
      "127\n"
     ]
    }
   ],
   "source": [
    "print (len(np.unique(label)))"
   ]
  },
  {
   "cell_type": "code",
   "execution_count": 7,
   "metadata": {},
   "outputs": [],
   "source": [
    "# Lấy 10 người để train, số còn lại dùng để test\n",
    "\n",
    "X_train = np.reshape(np.array([]), (-1, 128))\n",
    "X_test = np.reshape(np.array([]), (-1, 128))\n",
    "y_train = np.array([])\n",
    "y_test = np.array([])\n",
    "count = np.zeros(605)\n",
    "\n",
    "for i, lb in enumerate(label):\n",
    "    if count[lb] < 10:\n",
    "        X_train = np.append(X_train, np.reshape(vector[i], (-1, 128)), axis=0)\n",
    "        y_train = np.append(y_train, label[i])\n",
    "    else :\n",
    "        X_test = np.append(X_test, np.reshape(vector[i], (-1, 128)), axis=0)\n",
    "        y_test = np.append(y_test, label[i])\n",
    "    count[lb] += 1"
   ]
  },
  {
   "cell_type": "code",
   "execution_count": 8,
   "metadata": {},
   "outputs": [],
   "source": [
    "# Shuffle tập train\n",
    "idx = np.random.permutation(len(y_train))\n",
    "X_train = X_train[idx]\n",
    "y_train = y_train[idx]"
   ]
  },
  {
   "cell_type": "code",
   "execution_count": 9,
   "metadata": {},
   "outputs": [
    {
     "name": "stdout",
     "output_type": "stream",
     "text": [
      "0.8409425625920471 0.8799705449189985\n"
     ]
    }
   ],
   "source": [
    "from sklearn.neighbors import KNeighborsClassifier\n",
    "from sklearn.svm import LinearSVC\n",
    "from sklearn.metrics import f1_score, accuracy_score\n",
    "\n",
    "knn = KNeighborsClassifier(n_neighbors=5, metric = 'euclidean')\n",
    "svc = LinearSVC()\n",
    "\n",
    "knn.fit(X_train, y_train)\n",
    "svc.fit(X_train, y_train)\n",
    "\n",
    "acc_knn = accuracy_score(y_test, knn.predict(X_test))\n",
    "acc_svc = accuracy_score(y_test, svc.predict(X_test))\n",
    "\n",
    "print (acc_knn, acc_svc)"
   ]
  },
  {
   "cell_type": "code",
   "execution_count": 63,
   "metadata": {
    "scrolled": true
   },
   "outputs": [],
   "source": [
    "def distance_svm(X):\n",
    "    return svc.decision_function(X)"
   ]
  },
  {
   "cell_type": "code",
   "execution_count": 86,
   "metadata": {},
   "outputs": [
    {
     "name": "stderr",
     "output_type": "stream",
     "text": [
      "100%|██████████| 2716/2716 [00:43<00:00, 24.91it/s]\n"
     ]
    }
   ],
   "source": [
    "from sklearn.metrics import f1_score, accuracy_score\n",
    "from tqdm import tqdm\n",
    "\n",
    "distances = np.array([]) # Khoảng cách 2 ảnh\n",
    "identical = np.array([]) # 1 nếu cùng 1 người, ngược lại là 0 \n",
    "\n",
    "num = len(y_test)\n",
    "\n",
    "for i in tqdm(range(num)):\n",
    "        vc = np.reshape(X_test[i],(1, -1))\n",
    "        distances = np.append(distances, distance_svm(vc))\n",
    "        for j in svc.classes_:\n",
    "            identical = np.append(identical, 1 if y_test[i] == j else 0)"
   ]
  },
  {
   "cell_type": "code",
   "execution_count": 87,
   "metadata": {},
   "outputs": [
    {
     "name": "stdout",
     "output_type": "stream",
     "text": [
      "[ 0.14653182 -1.98686451 -1.97829273 ... -1.98636419 -2.0237361\n",
      "  0.73636877]\n",
      "[1. 0. 0. ... 0. 0. 1.]\n"
     ]
    }
   ],
   "source": [
    "print (distances)\n",
    "print (identical)"
   ]
  },
  {
   "cell_type": "code",
   "execution_count": 119,
   "metadata": {},
   "outputs": [],
   "source": [
    "thresholds = np.arange(-2, 2, 0.04)\n",
    "\n",
    "f1_scores = [f1_score(identical, distances > t) for t in thresholds]\n",
    "acc_scores = [accuracy_score(identical, distances > t) for t in thresholds]\n"
   ]
  },
  {
   "cell_type": "code",
   "execution_count": 120,
   "metadata": {},
   "outputs": [
    {
     "data": {
      "image/png": "[encoded data removed]",
      "text/plain": [
       "<Figure size 432x288 with 1 Axes>"
      ]
     },
     "metadata": {
      "needs_background": "light"
     },
     "output_type": "display_data"
    }
   ],
   "source": [
    "from matplotlib import pyplot as plt\n",
    "opt_idx = np.argmax(f1_scores)\n",
    "# Threshold at maximal F1 score\n",
    "opt_tau = thresholds[opt_idx]\n",
    "# Accuracy at maximal F1 score\n",
    "opt_acc = accuracy_score(identical, distances > opt_tau)\n",
    "\n",
    "# Plot F1 score and accuracy as function of distance threshold\n",
    "plt.plot(thresholds, f1_scores, label='F1 score');\n",
    "plt.plot(thresholds, acc_scores, label='Accuracy');\n",
    "plt.axvline(x=opt_tau, linestyle='--', lw=1, c='lightgrey', label='Threshold')\n",
    "plt.title(f'Accuracy at threshold {opt_tau:.2f} = {opt_acc:.3f}');\n",
    "plt.xlabel('Distance threshold')\n",
    "plt.legend();"
   ]
  }
 ],
 "metadata": {
  "kernelspec": {
   "display_name": "Python (tensorflow)",
   "language": "python",
   "name": "tensorflow"
  },
  "language_info": {
   "codemirror_mode": {
    "name": "ipython",
    "version": 3
   },
   "file_extension": ".py",
   "mimetype": "text/x-python",
   "name": "python",
   "nbconvert_exporter": "python",
   "pygments_lexer": "ipython3",
   "version": "3.6.8"
  }
 },
 "nbformat": 4,
 "nbformat_minor": 2
}
